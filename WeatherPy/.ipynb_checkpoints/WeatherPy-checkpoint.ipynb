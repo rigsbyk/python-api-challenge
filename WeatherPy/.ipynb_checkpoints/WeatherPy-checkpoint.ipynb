{
 "cells": [
  {
   "cell_type": "markdown",
   "metadata": {},
   "source": [
    "# WeatherPy\n",
    "----\n",
    "\n",
    "#### Note\n",
    "* Instructions have been included for each segment. You do not have to follow them exactly, but they are included to help you think through the steps."
   ]
  },
  {
   "cell_type": "markdown",
   "metadata": {},
   "source": [
    "## WeatherPy Observations & Analysis"
   ]
  },
  {
   "cell_type": "markdown",
   "metadata": {},
   "source": [
    "##### For Part I, you must include a written description of three observable trends based on the data.\n",
    "- Overall, it is not a surprising find that as you get closer to the equator the temperatures rise because there is \n",
    "a strong correlation between Max Temp and Latitude. This data was also pulled in the height of summer, so it is also no suprise that max temperatures are high at this time. \n",
    "- There appears to be no or very little correlation between Humidity and Latitude. Although, it was interesting to see places above the equator line at 60 or 80 degrees latitude had high humidity. Being further north, one would think those places would be less humid. Being in the south, I know humidity all too well and tend to think of it in terms of heat, so it was interesting to see that the data did not support that thought. \n",
    "- There also does not appear to be any correlation between cloudiness and latitude, nor wind speed and latitude. "
   ]
  },
  {
   "cell_type": "markdown",
   "metadata": {},
   "source": [
    "#### NOTE: Installed CitiPy\n",
    "pip install citipy"
   ]
  },
  {
   "cell_type": "code",
   "execution_count": 2,
   "metadata": {
    "scrolled": true
   },
   "outputs": [],
   "source": [
    "# Dependencies and Setup\n",
    "import matplotlib.pyplot as plt\n",
    "import pandas as pd\n",
    "import numpy as np\n",
    "import requests\n",
    "import time\n",
    "from scipy.stats import linregress\n",
    "\n",
    "# Import API key\n",
    "from config import weather_api_key\n",
    "\n",
    "# Incorporated citipy to determine city based on latitude and longitude\n",
    "from citipy import citipy\n",
    "\n",
    "# Output File (CSV)\n",
    "output_data_file = \"output_data/cities.csv\"\n",
    "\n",
    "# Range of latitudes and longitudes\n",
    "lat_range = (-90, 90)\n",
    "lng_range = (-180, 180)"
   ]
  },
  {
   "cell_type": "markdown",
   "metadata": {},
   "source": [
    "## Generate Cities List"
   ]
  },
  {
   "cell_type": "code",
   "execution_count": 3,
   "metadata": {},
   "outputs": [
    {
     "data": {
      "text/plain": [
       "607"
      ]
     },
     "execution_count": 3,
     "metadata": {},
     "output_type": "execute_result"
    }
   ],
   "source": [
    "# List for holding lat_lngs and cities\n",
    "lat_lngs = []\n",
    "cities = []\n",
    "\n",
    "# Create a set of random lat and lng combinations\n",
    "lats = np.random.uniform(lat_range[0], lat_range[1], size=1500)\n",
    "lngs = np.random.uniform(lng_range[0], lng_range[1], size=1500)\n",
    "lat_lngs = zip(lats, lngs)\n",
    "\n",
    "# Identify nearest city for each lat, lng combination\n",
    "for lat_lng in lat_lngs:\n",
    "    city = citipy.nearest_city(lat_lng[0], lat_lng[1]).city_name\n",
    "    \n",
    "    # If the city is unique, then add it to a our cities list\n",
    "    if city not in cities:\n",
    "        cities.append(city)\n",
    "\n",
    "# Print the city count to confirm sufficient count\n",
    "len(cities)"
   ]
  },
  {
   "cell_type": "markdown",
   "metadata": {},
   "source": [
    "### Perform API Calls\n",
    "* Perform a weather check on each city using a series of successive API calls.\n",
    "* Include a print log of each city as it'sbeing processed (with the city number and city name).\n"
   ]
  },
  {
   "cell_type": "code",
   "execution_count": 4,
   "metadata": {},
   "outputs": [
    {
     "name": "stdout",
     "output_type": "stream",
     "text": [
      "Beginning Data Retrieval \n",
      "-------------------------\n",
      "Processing Record 1 of Set 1 | bluff\n",
      "Processing Record 2 of Set 1 | akdepe\n",
      "Processing Record 3 of Set 1 | san quintin\n",
      "Processing Record 4 of Set 1 | upernavik\n",
      "City not found. Skipping...\n",
      "Processing Record 5 of Set 1 | punta arenas\n",
      "Processing Record 6 of Set 1 | castro\n",
      "Processing Record 7 of Set 1 | bethel\n",
      "Processing Record 8 of Set 1 | lompoc\n",
      "Processing Record 9 of Set 1 | egvekinot\n",
      "Processing Record 10 of Set 1 | kruisfontein\n",
      "Processing Record 11 of Set 1 | ghoti\n",
      "Processing Record 12 of Set 1 | pevek\n",
      "Processing Record 13 of Set 1 | derzhavinsk\n",
      "City not found. Skipping...\n",
      "Processing Record 14 of Set 1 | mataura\n",
      "Processing Record 15 of Set 1 | bambous virieux\n",
      "Processing Record 16 of Set 1 | port lincoln\n",
      "City not found. Skipping...\n",
      "Processing Record 17 of Set 1 | cherskiy\n",
      "Processing Record 18 of Set 1 | provideniya\n",
      "City not found. Skipping...\n",
      "Processing Record 19 of Set 1 | palu\n",
      "City not found. Skipping...\n",
      "Processing Record 20 of Set 1 | monrovia\n",
      "Processing Record 21 of Set 1 | rafai\n",
      "Processing Record 22 of Set 1 | saldanha\n",
      "Processing Record 23 of Set 1 | nikolskoye\n",
      "Processing Record 24 of Set 1 | dolores\n",
      "Processing Record 25 of Set 1 | ancud\n",
      "City not found. Skipping...\n",
      "Processing Record 26 of Set 1 | martapura\n",
      "Processing Record 27 of Set 1 | xiaoweizhai\n",
      "Processing Record 28 of Set 1 | ushuaia\n",
      "Processing Record 29 of Set 1 | half moon bay\n",
      "Processing Record 30 of Set 1 | nabire\n",
      "Processing Record 31 of Set 1 | saint-augustin\n",
      "Processing Record 32 of Set 1 | broken hill\n",
      "Processing Record 33 of Set 1 | svetlaya\n",
      "Processing Record 34 of Set 1 | byron bay\n",
      "Processing Record 35 of Set 1 | nanortalik\n",
      "Processing Record 36 of Set 1 | gouyave\n",
      "Processing Record 37 of Set 1 | khatanga\n",
      "Processing Record 38 of Set 1 | lao cai\n",
      "Processing Record 39 of Set 1 | paypay\n",
      "Processing Record 40 of Set 1 | vila franca do campo\n",
      "Processing Record 41 of Set 1 | albany\n",
      "Processing Record 42 of Set 1 | te anau\n",
      "Processing Record 43 of Set 1 | koster\n",
      "Processing Record 44 of Set 1 | butaritari\n",
      "Processing Record 45 of Set 1 | cape town\n",
      "Processing Record 46 of Set 1 | olafsvik\n",
      "Processing Record 47 of Set 1 | busselton\n",
      "Processing Record 48 of Set 1 | oranjestad\n",
      "Processing Record 49 of Set 1 | lebu\n",
      "Processing Record 50 of Set 1 | vaini\n",
      "Processing Record 0 of Set 2 | mahebourg\n",
      "Processing Record 1 of Set 2 | kimbe\n",
      "City not found. Skipping...\n",
      "City not found. Skipping...\n",
      "Processing Record 2 of Set 2 | rikitea\n",
      "Processing Record 3 of Set 2 | atuona\n",
      "Processing Record 4 of Set 2 | imbituba\n",
      "Processing Record 5 of Set 2 | east london\n",
      "Processing Record 6 of Set 2 | ixtapa\n",
      "Processing Record 7 of Set 2 | zhigansk\n",
      "Processing Record 8 of Set 2 | hermanus\n",
      "Processing Record 9 of Set 2 | tuatapere\n",
      "City not found. Skipping...\n",
      "Processing Record 10 of Set 2 | tuktoyaktuk\n",
      "Processing Record 11 of Set 2 | san vicente\n",
      "Processing Record 12 of Set 2 | chinavita\n",
      "Processing Record 13 of Set 2 | fortuna\n",
      "City not found. Skipping...\n",
      "Processing Record 14 of Set 2 | geraldton\n",
      "Processing Record 15 of Set 2 | hobart\n",
      "Processing Record 16 of Set 2 | barrow\n",
      "Processing Record 17 of Set 2 | torbay\n",
      "Processing Record 18 of Set 2 | san juan del sur\n",
      "Processing Record 19 of Set 2 | avarua\n",
      "City not found. Skipping...\n",
      "Processing Record 20 of Set 2 | kavieng\n",
      "Processing Record 21 of Set 2 | grindavik\n",
      "Processing Record 22 of Set 2 | saint george\n",
      "Processing Record 23 of Set 2 | qaanaaq\n",
      "Processing Record 24 of Set 2 | lagoa\n",
      "Processing Record 25 of Set 2 | yellowknife\n",
      "City not found. Skipping...\n",
      "Processing Record 26 of Set 2 | alekseyevka\n",
      "Processing Record 27 of Set 2 | mayuge\n",
      "Processing Record 28 of Set 2 | padang\n",
      "Processing Record 29 of Set 2 | norman wells\n",
      "Processing Record 30 of Set 2 | longyearbyen\n",
      "Processing Record 31 of Set 2 | praia da vitoria\n",
      "City not found. Skipping...\n",
      "Processing Record 32 of Set 2 | caravelas\n",
      "Processing Record 33 of Set 2 | vanimo\n",
      "Processing Record 34 of Set 2 | mogocha\n",
      "Processing Record 35 of Set 2 | san jeronimo\n",
      "Processing Record 36 of Set 2 | havelock\n",
      "Processing Record 37 of Set 2 | awjilah\n",
      "Processing Record 38 of Set 2 | harper\n",
      "Processing Record 39 of Set 2 | hilo\n",
      "Processing Record 40 of Set 2 | puerto ayora\n",
      "Processing Record 41 of Set 2 | jiexiu\n",
      "Processing Record 42 of Set 2 | thompson\n",
      "Processing Record 43 of Set 2 | cidreira\n",
      "Processing Record 44 of Set 2 | westport\n",
      "Processing Record 45 of Set 2 | port alfred\n",
      "Processing Record 46 of Set 2 | kodiak\n",
      "Processing Record 47 of Set 2 | georgetown\n",
      "Processing Record 48 of Set 2 | guerrero negro\n",
      "Processing Record 49 of Set 2 | iralaya\n",
      "Processing Record 50 of Set 2 | homer\n",
      "Processing Record 0 of Set 3 | igurusi\n",
      "Processing Record 1 of Set 3 | andenes\n",
      "City not found. Skipping...\n",
      "City not found. Skipping...\n",
      "Processing Record 2 of Set 3 | sabla\n",
      "Processing Record 3 of Set 3 | tokur\n",
      "Processing Record 4 of Set 3 | mendoza\n",
      "Processing Record 5 of Set 3 | lorengau\n",
      "Processing Record 6 of Set 3 | ponta do sol\n",
      "Processing Record 7 of Set 3 | tiksi\n",
      "Processing Record 8 of Set 3 | malakal\n",
      "Processing Record 9 of Set 3 | asyut\n",
      "Processing Record 10 of Set 3 | shebalino\n",
      "Processing Record 11 of Set 3 | jamestown\n",
      "Processing Record 12 of Set 3 | kapaa\n",
      "Processing Record 13 of Set 3 | koungou\n",
      "Processing Record 14 of Set 3 | saint anthony\n",
      "Processing Record 15 of Set 3 | havre-saint-pierre\n",
      "Processing Record 16 of Set 3 | pisco\n",
      "Processing Record 17 of Set 3 | ribeira grande\n",
      "Processing Record 18 of Set 3 | iqaluit\n",
      "Processing Record 19 of Set 3 | takapau\n",
      "Processing Record 20 of Set 3 | moose factory\n",
      "Processing Record 21 of Set 3 | zempoala\n",
      "Processing Record 22 of Set 3 | bredasdorp\n",
      "Processing Record 23 of Set 3 | tilichiki\n",
      "Processing Record 24 of Set 3 | meulaboh\n",
      "City not found. Skipping...\n",
      "Processing Record 25 of Set 3 | abu kamal\n",
      "Processing Record 26 of Set 3 | phuket\n",
      "Processing Record 27 of Set 3 | birao\n",
      "Processing Record 28 of Set 3 | hasaki\n",
      "Processing Record 29 of Set 3 | oranjemund\n",
      "Processing Record 30 of Set 3 | yamada\n",
      "City not found. Skipping...\n",
      "Processing Record 31 of Set 3 | hay river\n",
      "Processing Record 32 of Set 3 | fairbanks\n",
      "Processing Record 33 of Set 3 | haines junction\n",
      "Processing Record 34 of Set 3 | berdigestyakh\n",
      "Processing Record 35 of Set 3 | eunice\n",
      "Processing Record 36 of Set 3 | mar del plata\n",
      "Processing Record 37 of Set 3 | tocopilla\n",
      "Processing Record 38 of Set 3 | ciudad bolivar\n",
      "Processing Record 39 of Set 3 | rawson\n",
      "Processing Record 40 of Set 3 | orlik\n",
      "Processing Record 41 of Set 3 | tura\n",
      "Processing Record 42 of Set 3 | manaure\n",
      "Processing Record 43 of Set 3 | trinidad\n",
      "Processing Record 44 of Set 3 | ubinskoye\n",
      "Processing Record 45 of Set 3 | port elizabeth\n",
      "Processing Record 46 of Set 3 | udachnyy\n",
      "Processing Record 47 of Set 3 | taltal\n",
      "Processing Record 48 of Set 3 | halifax\n",
      "Processing Record 49 of Set 3 | dzaoudzi\n",
      "Processing Record 50 of Set 3 | morgan city\n",
      "Processing Record 0 of Set 4 | atar\n",
      "Processing Record 1 of Set 4 | arraial do cabo\n",
      "Processing Record 2 of Set 4 | alta floresta\n",
      "Processing Record 3 of Set 4 | port hardy\n",
      "Processing Record 4 of Set 4 | saint-pierre\n",
      "Processing Record 5 of Set 4 | puerto del rosario\n",
      "Processing Record 6 of Set 4 | chicama\n",
      "Processing Record 7 of Set 4 | matay\n",
      "Processing Record 8 of Set 4 | bengkulu\n",
      "Processing Record 9 of Set 4 | salme\n",
      "Processing Record 10 of Set 4 | grand-santi\n",
      "Processing Record 11 of Set 4 | luderitz\n",
      "Processing Record 12 of Set 4 | saskylakh\n",
      "Processing Record 13 of Set 4 | cabo san lucas\n",
      "Processing Record 14 of Set 4 | matara\n",
      "Processing Record 15 of Set 4 | la ronge\n",
      "Processing Record 16 of Set 4 | faya\n",
      "Processing Record 17 of Set 4 | ponta delgada\n",
      "Processing Record 18 of Set 4 | carnarvon\n",
      "City not found. Skipping...\n",
      "Processing Record 19 of Set 4 | korla\n",
      "Processing Record 20 of Set 4 | palmer\n",
      "City not found. Skipping...\n",
      "City not found. Skipping...\n",
      "Processing Record 21 of Set 4 | cairns\n",
      "Processing Record 22 of Set 4 | beringovskiy\n",
      "Processing Record 23 of Set 4 | chimoio\n",
      "Processing Record 24 of Set 4 | general pico\n",
      "Processing Record 25 of Set 4 | kahului\n",
      "Processing Record 26 of Set 4 | kiruna\n",
      "Processing Record 27 of Set 4 | mae sai\n",
      "Processing Record 28 of Set 4 | kulhudhuffushi\n",
      "Processing Record 29 of Set 4 | mitu\n",
      "Processing Record 30 of Set 4 | ayagoz\n",
      "Processing Record 31 of Set 4 | tasiilaq\n",
      "Processing Record 32 of Set 4 | vitim\n"
     ]
    },
    {
     "name": "stdout",
     "output_type": "stream",
     "text": [
      "City not found. Skipping...\n",
      "Processing Record 33 of Set 4 | new norfolk\n",
      "Processing Record 34 of Set 4 | bay roberts\n",
      "Processing Record 35 of Set 4 | kaitangata\n",
      "Processing Record 36 of Set 4 | honningsvag\n",
      "Processing Record 37 of Set 4 | tiszafoldvar\n",
      "City not found. Skipping...\n",
      "Processing Record 38 of Set 4 | aksarka\n",
      "Processing Record 39 of Set 4 | vao\n",
      "Processing Record 40 of Set 4 | severo-kurilsk\n",
      "Processing Record 41 of Set 4 | bonavista\n",
      "City not found. Skipping...\n",
      "Processing Record 42 of Set 4 | kita\n",
      "Processing Record 43 of Set 4 | dikson\n",
      "Processing Record 44 of Set 4 | chaparral\n",
      "Processing Record 45 of Set 4 | pilar\n",
      "Processing Record 46 of Set 4 | hithadhoo\n",
      "Processing Record 47 of Set 4 | aksu\n",
      "Processing Record 48 of Set 4 | bonoua\n",
      "Processing Record 49 of Set 4 | pizarro\n",
      "Processing Record 50 of Set 4 | prince rupert\n",
      "Processing Record 0 of Set 5 | clyde river\n",
      "Processing Record 1 of Set 5 | port-gentil\n",
      "Processing Record 2 of Set 5 | santa cruz del norte\n",
      "Processing Record 3 of Set 5 | launceston\n",
      "Processing Record 4 of Set 5 | lasa\n",
      "Processing Record 5 of Set 5 | broome\n",
      "Processing Record 6 of Set 5 | andros\n",
      "Processing Record 7 of Set 5 | urucara\n",
      "Processing Record 8 of Set 5 | pascagoula\n",
      "Processing Record 9 of Set 5 | ca mau\n",
      "Processing Record 10 of Set 5 | smolenka\n",
      "Processing Record 11 of Set 5 | esperance\n",
      "Processing Record 12 of Set 5 | chuy\n",
      "Processing Record 13 of Set 5 | canoinhas\n",
      "Processing Record 14 of Set 5 | willowmore\n",
      "City not found. Skipping...\n",
      "Processing Record 15 of Set 5 | tucurui\n",
      "Processing Record 16 of Set 5 | la asuncion\n",
      "Processing Record 17 of Set 5 | narsaq\n",
      "Processing Record 18 of Set 5 | helong\n",
      "City not found. Skipping...\n",
      "Processing Record 19 of Set 5 | eslamshahr\n",
      "City not found. Skipping...\n",
      "City not found. Skipping...\n",
      "Processing Record 20 of Set 5 | anapskaya\n",
      "Processing Record 21 of Set 5 | lufilufi\n",
      "Processing Record 22 of Set 5 | merrill\n",
      "Processing Record 23 of Set 5 | talcahuano\n",
      "Processing Record 24 of Set 5 | shingu\n",
      "Processing Record 25 of Set 5 | linxia\n",
      "Processing Record 26 of Set 5 | mazamari\n",
      "Processing Record 27 of Set 5 | chokurdakh\n",
      "Processing Record 28 of Set 5 | soure\n",
      "City not found. Skipping...\n",
      "Processing Record 29 of Set 5 | vestmannaeyjar\n",
      "Processing Record 30 of Set 5 | naze\n",
      "Processing Record 31 of Set 5 | suntar\n",
      "Processing Record 32 of Set 5 | saint-philippe\n",
      "Processing Record 33 of Set 5 | souillac\n",
      "Processing Record 34 of Set 5 | bon accord\n",
      "Processing Record 35 of Set 5 | urumqi\n",
      "Processing Record 36 of Set 5 | ostrovnoy\n",
      "Processing Record 37 of Set 5 | goundi\n",
      "Processing Record 38 of Set 5 | kavaratti\n",
      "Processing Record 39 of Set 5 | orotukan\n",
      "Processing Record 40 of Set 5 | farafangana\n",
      "City not found. Skipping...\n",
      "Processing Record 41 of Set 5 | siocon\n",
      "Processing Record 42 of Set 5 | quimper\n",
      "Processing Record 43 of Set 5 | xuddur\n",
      "Processing Record 44 of Set 5 | kidal\n",
      "Processing Record 45 of Set 5 | jiayuguan\n",
      "Processing Record 46 of Set 5 | ilulissat\n",
      "Processing Record 47 of Set 5 | mayor pablo lagerenza\n",
      "Processing Record 48 of Set 5 | maningrida\n",
      "Processing Record 49 of Set 5 | dubreka\n",
      "City not found. Skipping...\n",
      "Processing Record 50 of Set 5 | acapulco\n",
      "Processing Record 0 of Set 6 | yenagoa\n",
      "Processing Record 1 of Set 6 | labuhan\n",
      "Processing Record 2 of Set 6 | kayes\n",
      "Processing Record 3 of Set 6 | flinders\n",
      "Processing Record 4 of Set 6 | mudgee\n",
      "Processing Record 5 of Set 6 | guaruja\n",
      "Processing Record 6 of Set 6 | sobolevo\n",
      "Processing Record 7 of Set 6 | chifeng\n",
      "Processing Record 8 of Set 6 | bubaque\n",
      "City not found. Skipping...\n",
      "Processing Record 9 of Set 6 | batsfjord\n",
      "Processing Record 10 of Set 6 | berlevag\n",
      "Processing Record 11 of Set 6 | tangzhai\n",
      "Processing Record 12 of Set 6 | ossora\n",
      "Processing Record 13 of Set 6 | porto novo\n",
      "Processing Record 14 of Set 6 | ipoti\n",
      "Processing Record 15 of Set 6 | dwarka\n",
      "Processing Record 16 of Set 6 | mvangue\n",
      "Processing Record 17 of Set 6 | olinda\n",
      "Processing Record 18 of Set 6 | tete\n",
      "Processing Record 19 of Set 6 | salalah\n",
      "Processing Record 20 of Set 6 | biswan\n",
      "Processing Record 21 of Set 6 | coquimbo\n",
      "Processing Record 22 of Set 6 | shu\n",
      "Processing Record 23 of Set 6 | viedma\n",
      "Processing Record 24 of Set 6 | faanui\n",
      "Processing Record 25 of Set 6 | araouane\n",
      "City not found. Skipping...\n",
      "Processing Record 26 of Set 6 | mareeba\n",
      "Processing Record 27 of Set 6 | comodoro rivadavia\n",
      "Processing Record 28 of Set 6 | san policarpo\n",
      "Processing Record 29 of Set 6 | husavik\n",
      "City not found. Skipping...\n",
      "Processing Record 30 of Set 6 | victoria\n",
      "Processing Record 31 of Set 6 | leningradskiy\n",
      "Processing Record 32 of Set 6 | zuya\n",
      "Processing Record 33 of Set 6 | elizabeth city\n",
      "Processing Record 34 of Set 6 | katsuura\n",
      "Processing Record 35 of Set 6 | aykhal\n",
      "Processing Record 36 of Set 6 | bathsheba\n",
      "Processing Record 37 of Set 6 | kloulklubed\n",
      "Processing Record 38 of Set 6 | malanje\n",
      "Processing Record 39 of Set 6 | christchurch\n",
      "Processing Record 40 of Set 6 | worland\n",
      "Processing Record 41 of Set 6 | alice springs\n",
      "Processing Record 42 of Set 6 | maniitsoq\n",
      "Processing Record 43 of Set 6 | contai\n",
      "Processing Record 44 of Set 6 | fort-shevchenko\n",
      "Processing Record 45 of Set 6 | hegra\n",
      "City not found. Skipping...\n",
      "Processing Record 46 of Set 6 | lavrentiya\n",
      "Processing Record 47 of Set 6 | mount isa\n",
      "Processing Record 48 of Set 6 | tucumcari\n",
      "Processing Record 49 of Set 6 | tiarei\n",
      "Processing Record 50 of Set 6 | talaya\n",
      "Processing Record 0 of Set 7 | livingstone\n",
      "Processing Record 1 of Set 7 | fort nelson\n",
      "Processing Record 2 of Set 7 | wawa\n",
      "Processing Record 3 of Set 7 | harrisburg\n",
      "Processing Record 4 of Set 7 | kununurra\n",
      "Processing Record 5 of Set 7 | karratha\n",
      "Processing Record 6 of Set 7 | sioux lookout\n",
      "Processing Record 7 of Set 7 | upornaya\n",
      "Processing Record 8 of Set 7 | savannah bight\n",
      "Processing Record 9 of Set 7 | sao joao da barra\n",
      "Processing Record 10 of Set 7 | carupano\n",
      "Processing Record 11 of Set 7 | yumen\n",
      "Processing Record 12 of Set 7 | road town\n",
      "Processing Record 13 of Set 7 | nushki\n",
      "Processing Record 14 of Set 7 | kushima\n",
      "Processing Record 15 of Set 7 | kyshtovka\n",
      "Processing Record 16 of Set 7 | xingyi\n",
      "Processing Record 17 of Set 7 | namatanai\n",
      "Processing Record 18 of Set 7 | mbarara\n",
      "Processing Record 19 of Set 7 | nyagan\n",
      "Processing Record 20 of Set 7 | kuybyshevo\n",
      "Processing Record 21 of Set 7 | ust-ordynskiy\n",
      "Processing Record 22 of Set 7 | anloga\n",
      "City not found. Skipping...\n",
      "Processing Record 23 of Set 7 | rosa zarate\n",
      "Processing Record 24 of Set 7 | cap malheureux\n",
      "Processing Record 25 of Set 7 | hamilton\n",
      "Processing Record 26 of Set 7 | newark\n",
      "Processing Record 27 of Set 7 | huanren\n",
      "Processing Record 28 of Set 7 | nome\n",
      "Processing Record 29 of Set 7 | gazalkent\n",
      "Processing Record 30 of Set 7 | kathu\n",
      "Processing Record 31 of Set 7 | richards bay\n",
      "Processing Record 32 of Set 7 | aleksandrov gay\n",
      "Processing Record 33 of Set 7 | seoul\n",
      "Processing Record 34 of Set 7 | solnechnyy\n",
      "Processing Record 35 of Set 7 | sandakan\n",
      "Processing Record 36 of Set 7 | progreso\n",
      "Processing Record 37 of Set 7 | assare\n",
      "Processing Record 38 of Set 7 | airai\n",
      "Processing Record 39 of Set 7 | ginir\n",
      "Processing Record 40 of Set 7 | lata\n",
      "Processing Record 41 of Set 7 | cerkezkoy\n",
      "Processing Record 42 of Set 7 | camopi\n",
      "Processing Record 43 of Set 7 | russell\n",
      "Processing Record 44 of Set 7 | jalu\n",
      "Processing Record 45 of Set 7 | samarkand\n",
      "Processing Record 46 of Set 7 | ambilobe\n",
      "Processing Record 47 of Set 7 | ola\n",
      "Processing Record 48 of Set 7 | baghdad\n",
      "Processing Record 49 of Set 7 | bhadrachalam\n",
      "Processing Record 50 of Set 7 | pangnirtung\n",
      "Processing Record 0 of Set 8 | tromso\n",
      "Processing Record 1 of Set 8 | waipawa\n",
      "Processing Record 2 of Set 8 | gigmoto\n",
      "Processing Record 3 of Set 8 | nemuro\n",
      "Processing Record 4 of Set 8 | sitka\n",
      "Processing Record 5 of Set 8 | solwezi\n",
      "Processing Record 6 of Set 8 | rahon\n",
      "Processing Record 7 of Set 8 | hirara\n",
      "Processing Record 8 of Set 8 | ha giang\n",
      "Processing Record 9 of Set 8 | tomatlan\n",
      "Processing Record 10 of Set 8 | haapiti\n",
      "Processing Record 11 of Set 8 | lahan\n",
      "Processing Record 12 of Set 8 | najran\n",
      "Processing Record 13 of Set 8 | san patricio\n",
      "Processing Record 14 of Set 8 | ukiah\n",
      "City not found. Skipping...\n",
      "Processing Record 15 of Set 8 | oyotun\n",
      "Processing Record 16 of Set 8 | voloshka\n",
      "Processing Record 17 of Set 8 | ahipara\n",
      "Processing Record 18 of Set 8 | bambanglipuro\n",
      "Processing Record 19 of Set 8 | candolim\n",
      "Processing Record 20 of Set 8 | gbarnga\n"
     ]
    },
    {
     "name": "stdout",
     "output_type": "stream",
     "text": [
      "Processing Record 21 of Set 8 | poum\n",
      "Processing Record 22 of Set 8 | azuqueca de henares\n",
      "Processing Record 23 of Set 8 | kiunga\n",
      "Processing Record 24 of Set 8 | basoko\n",
      "Processing Record 25 of Set 8 | florence\n",
      "Processing Record 26 of Set 8 | carutapera\n",
      "Processing Record 27 of Set 8 | tahoua\n",
      "City not found. Skipping...\n",
      "Processing Record 28 of Set 8 | san cristobal\n",
      "Processing Record 29 of Set 8 | verkhnevilyuysk\n",
      "Processing Record 30 of Set 8 | jardim\n",
      "Processing Record 31 of Set 8 | hilpoltstein\n",
      "Processing Record 32 of Set 8 | north potomac\n",
      "Processing Record 33 of Set 8 | jining\n",
      "Processing Record 34 of Set 8 | asasa\n",
      "Processing Record 35 of Set 8 | tessalit\n",
      "City not found. Skipping...\n",
      "City not found. Skipping...\n",
      "Processing Record 36 of Set 8 | karlstad\n",
      "Processing Record 37 of Set 8 | marysville\n",
      "Processing Record 38 of Set 8 | zhangye\n",
      "Processing Record 39 of Set 8 | inhambane\n",
      "Processing Record 40 of Set 8 | verkhnetulomskiy\n",
      "City not found. Skipping...\n",
      "Processing Record 41 of Set 8 | adrar\n",
      "City not found. Skipping...\n",
      "City not found. Skipping...\n",
      "Processing Record 42 of Set 8 | vardo\n",
      "Processing Record 43 of Set 8 | dunedin\n",
      "Processing Record 44 of Set 8 | sao felix do xingu\n",
      "Processing Record 45 of Set 8 | ahuimanu\n",
      "Processing Record 46 of Set 8 | shimoda\n",
      "Processing Record 47 of Set 8 | leh\n",
      "Processing Record 48 of Set 8 | makat\n",
      "Processing Record 49 of Set 8 | bealanana\n",
      "Processing Record 50 of Set 8 | altay\n",
      "Processing Record 0 of Set 9 | phonhong\n",
      "Processing Record 1 of Set 9 | farsund\n",
      "Processing Record 2 of Set 9 | kisangani\n",
      "Processing Record 3 of Set 9 | oussouye\n",
      "Processing Record 4 of Set 9 | brae\n",
      "Processing Record 5 of Set 9 | kutum\n",
      "Processing Record 6 of Set 9 | niteroi\n",
      "Processing Record 7 of Set 9 | san andres\n",
      "Processing Record 8 of Set 9 | neiafu\n",
      "Processing Record 9 of Set 9 | black river\n",
      "Processing Record 10 of Set 9 | darnah\n",
      "Processing Record 11 of Set 9 | sur\n",
      "Processing Record 12 of Set 9 | negresti-oas\n",
      "Processing Record 13 of Set 9 | muhos\n",
      "Processing Record 14 of Set 9 | yulara\n",
      "Processing Record 15 of Set 9 | manggar\n",
      "Processing Record 16 of Set 9 | petropavlovka\n",
      "Processing Record 17 of Set 9 | garowe\n",
      "Processing Record 18 of Set 9 | olawa\n",
      "Processing Record 19 of Set 9 | cahors\n",
      "City not found. Skipping...\n",
      "Processing Record 20 of Set 9 | fuerte olimpo\n",
      "Processing Record 21 of Set 9 | laguna\n",
      "Processing Record 22 of Set 9 | marsabit\n",
      "Processing Record 23 of Set 9 | hidalgotitlan\n",
      "Processing Record 24 of Set 9 | peniche\n",
      "Processing Record 25 of Set 9 | callaguip\n",
      "Processing Record 26 of Set 9 | isangel\n",
      "City not found. Skipping...\n",
      "Processing Record 27 of Set 9 | mount gambier\n",
      "Processing Record 28 of Set 9 | hofn\n",
      "Processing Record 29 of Set 9 | eureka\n",
      "Processing Record 30 of Set 9 | penalva\n",
      "Processing Record 31 of Set 9 | cravo norte\n",
      "Processing Record 32 of Set 9 | aklavik\n",
      "Processing Record 33 of Set 9 | hervey bay\n",
      "Processing Record 34 of Set 9 | aktash\n",
      "Processing Record 35 of Set 9 | frontera\n",
      "Processing Record 36 of Set 9 | gustrow\n",
      "Processing Record 37 of Set 9 | codrington\n",
      "Processing Record 38 of Set 9 | dalbandin\n",
      "City not found. Skipping...\n",
      "Processing Record 39 of Set 9 | qaqortoq\n",
      "Processing Record 40 of Set 9 | panama city\n",
      "Processing Record 41 of Set 9 | rio grande\n",
      "Processing Record 42 of Set 9 | asau\n",
      "Processing Record 43 of Set 9 | san-pedro\n",
      "Processing Record 44 of Set 9 | axim\n",
      "Processing Record 45 of Set 9 | soyo\n",
      "Processing Record 46 of Set 9 | gravdal\n",
      "Processing Record 47 of Set 9 | bandarbeyla\n",
      "Processing Record 48 of Set 9 | pitimbu\n",
      "Processing Record 49 of Set 9 | san jose\n",
      "Processing Record 50 of Set 9 | talnakh\n",
      "Processing Record 0 of Set 10 | sesimbra\n",
      "Processing Record 1 of Set 10 | saint-francois\n",
      "Processing Record 2 of Set 10 | rocha\n",
      "Processing Record 3 of Set 10 | klaksvik\n",
      "Processing Record 4 of Set 10 | alice\n",
      "Processing Record 5 of Set 10 | pombas\n",
      "Processing Record 6 of Set 10 | jaszszentlaszlo\n",
      "Processing Record 7 of Set 10 | dzhebariki-khaya\n",
      "Processing Record 8 of Set 10 | maraba\n",
      "Processing Record 9 of Set 10 | oskemen\n",
      "Processing Record 10 of Set 10 | champerico\n",
      "Processing Record 11 of Set 10 | santa maria\n",
      "Processing Record 12 of Set 10 | coro\n",
      "Processing Record 13 of Set 10 | werda\n",
      "Processing Record 14 of Set 10 | zdvinsk\n",
      "City not found. Skipping...\n",
      "Processing Record 15 of Set 10 | zlobin\n",
      "Processing Record 16 of Set 10 | maridi\n",
      "Processing Record 17 of Set 10 | walvis bay\n",
      "Processing Record 18 of Set 10 | dingle\n",
      "Processing Record 19 of Set 10 | beian\n",
      "Processing Record 20 of Set 10 | inirida\n",
      "Processing Record 21 of Set 10 | port blair\n",
      "Processing Record 22 of Set 10 | talakan\n",
      "City not found. Skipping...\n",
      "Processing Record 23 of Set 10 | soeng sang\n",
      "Processing Record 24 of Set 10 | lingao\n",
      "Processing Record 25 of Set 10 | chacabuco\n",
      "Processing Record 26 of Set 10 | zelenets\n",
      "Processing Record 27 of Set 10 | marion\n",
      "Processing Record 28 of Set 10 | northallerton\n",
      "Processing Record 29 of Set 10 | okha\n",
      "Processing Record 30 of Set 10 | sakhnovshchyna\n",
      "Processing Record 31 of Set 10 | hami\n",
      "Processing Record 32 of Set 10 | zhuhai\n",
      "Processing Record 33 of Set 10 | stephenville\n",
      "City not found. Skipping...\n",
      "Processing Record 34 of Set 10 | hvide sande\n",
      "Processing Record 35 of Set 10 | kharp\n",
      "Processing Record 36 of Set 10 | alofi\n",
      "Processing Record 37 of Set 10 | merauke\n",
      "Processing Record 38 of Set 10 | buraydah\n",
      "Processing Record 39 of Set 10 | sal rei\n",
      "Processing Record 40 of Set 10 | milkovo\n",
      "Processing Record 41 of Set 10 | yenangyaung\n",
      "Processing Record 42 of Set 10 | valparaiso\n",
      "Processing Record 43 of Set 10 | kasongo-lunda\n",
      "Processing Record 44 of Set 10 | porbandar\n",
      "Processing Record 45 of Set 10 | namibe\n",
      "Processing Record 46 of Set 10 | katobu\n",
      "Processing Record 47 of Set 10 | yelanskiy\n",
      "Processing Record 48 of Set 10 | kolondieba\n",
      "Processing Record 49 of Set 10 | igis\n",
      "City not found. Skipping...\n",
      "Processing Record 50 of Set 10 | batagay\n",
      "Processing Record 0 of Set 11 | pacific grove\n",
      "Processing Record 1 of Set 11 | kralendijk\n",
      "Processing Record 2 of Set 11 | mo i rana\n",
      "Processing Record 3 of Set 11 | freeport\n",
      "Processing Record 4 of Set 11 | buala\n",
      "Processing Record 5 of Set 11 | ust-uda\n",
      "City not found. Skipping...\n",
      "Processing Record 6 of Set 11 | sao filipe\n",
      "Processing Record 7 of Set 11 | hobyo\n",
      "Processing Record 8 of Set 11 | sijunjung\n",
      "Processing Record 9 of Set 11 | ajdabiya\n",
      "Processing Record 10 of Set 11 | hambantota\n",
      "Processing Record 11 of Set 11 | gdynia\n",
      "Processing Record 12 of Set 11 | phan thiet\n",
      "Processing Record 13 of Set 11 | meadow lake\n",
      "Processing Record 14 of Set 11 | yorosso\n",
      "Processing Record 15 of Set 11 | kadyy\n",
      "Processing Record 16 of Set 11 | buzdyak\n",
      "Processing Record 17 of Set 11 | bilibino\n",
      "Processing Record 18 of Set 11 | vilkija\n",
      "Processing Record 19 of Set 11 | cabra\n",
      "Processing Record 20 of Set 11 | ovsyanka\n",
      "Processing Record 21 of Set 11 | xichang\n",
      "City not found. Skipping...\n",
      "Processing Record 22 of Set 11 | margate\n",
      "Processing Record 23 of Set 11 | alyangula\n",
      "Processing Record 24 of Set 11 | ust-tarka\n",
      "Processing Record 25 of Set 11 | aqtobe\n",
      "Processing Record 26 of Set 11 | pauini\n",
      "Processing Record 27 of Set 11 | tual\n",
      "Processing Record 28 of Set 11 | chapais\n",
      "Processing Record 29 of Set 11 | burnie\n",
      "Processing Record 30 of Set 11 | erdenet\n",
      "Processing Record 31 of Set 11 | kayerkan\n",
      "Processing Record 32 of Set 11 | teacapan\n",
      "Processing Record 33 of Set 11 | neenah\n",
      "Processing Record 34 of Set 11 | krasnoarmeysk\n",
      "Processing Record 35 of Set 11 | gat\n",
      "Processing Record 36 of Set 11 | abu samrah\n",
      "Processing Record 37 of Set 11 | caiaponia\n",
      "Processing Record 38 of Set 11 | sorong\n",
      "Processing Record 39 of Set 11 | sanandaj\n",
      "Processing Record 40 of Set 11 | bud\n",
      "Processing Record 41 of Set 11 | sumbe\n",
      "Processing Record 42 of Set 11 | dakar\n",
      "Processing Record 43 of Set 11 | marang\n",
      "Processing Record 44 of Set 11 | grand gaube\n",
      "Processing Record 45 of Set 11 | banda aceh\n",
      "Processing Record 46 of Set 11 | salekhard\n",
      "-------------------------\n",
      "Data Retrieval Complete  \n",
      "-------------------------\n"
     ]
    }
   ],
   "source": [
    "# Save config information.\n",
    "url = \"http://api.openweathermap.org/data/2.5/weather?\"\n",
    "units = \"imperial\"\n",
    "\n",
    "# Build partial query URL\n",
    "query_url = f\"{url}appid={weather_api_key}&units={units}&q=\"\n",
    "\n",
    "# Set up list to hold the data\n",
    "city_name = []\n",
    "lat = []\n",
    "lng = []\n",
    "max_temp = []\n",
    "humidity = []\n",
    "cloudiness = []\n",
    "wind_speed = []\n",
    "country = []\n",
    "date = []\n",
    "\n",
    "# Set record counter initially to zero\n",
    "# Set set_counter initially to one\n",
    "record = 0 \n",
    "set_count = 1\n",
    "\n",
    "# Print header of \n",
    "print('Beginning Data Retrieval ')\n",
    "print('-------------------------')\n",
    "\n",
    "# Create for loop to iterate through the cities and grab the requested values for each city\n",
    "for city in cities:\n",
    "    \n",
    "    # Setting up exception handling\n",
    "    try:\n",
    "        # Performing API calls and appending that information to the created lists\n",
    "        response = requests.get(query_url + city).json()\n",
    "        city_name.append(response['name'])\n",
    "        lat.append(response['coord']['lat'])\n",
    "        lng.append(response['coord']['lon'])\n",
    "        max_temp.append(response['main']['temp_max'])\n",
    "        humidity.append(response['main']['humidity'])\n",
    "        cloudiness.append(response['clouds']['all'])\n",
    "        wind_speed.append(response['wind']['speed'])\n",
    "        country.append(response['sys']['country'])\n",
    "        date.append(response['dt'])\n",
    "        \n",
    "        \n",
    "        # Set-up conditional for counter and set_counter\n",
    "        if record > 49:\n",
    "            set_count +=1\n",
    "            record = 0\n",
    "        else:\n",
    "              record += 1\n",
    "                \n",
    "        # Print Processing Record for each city returned\n",
    "        print(f'Processing Record {record} of Set {set_count} | {city}')\n",
    "    \n",
    "    # Creating exception so code does not break when city is not found\n",
    "    except:\n",
    "        # When city not found just print 'City not found' and keep going until the end\n",
    "        print(f'City not found. Skipping...')\n",
    "        \n",
    "# Printing out Data Retrieval Complete from processing\n",
    "print('-------------------------')\n",
    "print('Data Retrieval Complete  ')\n",
    "print('-------------------------')"
   ]
  },
  {
   "cell_type": "code",
   "execution_count": 5,
   "metadata": {},
   "outputs": [
    {
     "data": {
      "text/plain": [
       "City          556\n",
       "Lat           556\n",
       "Lng           556\n",
       "Max Temp      556\n",
       "Humidity      556\n",
       "Cloudiness    556\n",
       "Wind Speed    556\n",
       "Country       556\n",
       "Date          556\n",
       "dtype: int64"
      ]
     },
     "execution_count": 5,
     "metadata": {},
     "output_type": "execute_result"
    }
   ],
   "source": [
    "# Create dataframe\n",
    "city_weather = pd.DataFrame({\n",
    "    \n",
    "                                \"City\":city_name,\n",
    "                                \"Lat\":lat,\n",
    "                                \"Lng\":lng,\n",
    "                                \"Max Temp\":max_temp,\n",
    "                                \"Humidity\":humidity,\n",
    "                                \"Cloudiness\":cloudiness,\n",
    "                                \"Wind Speed\":wind_speed,\n",
    "                                \"Country\":country,\n",
    "                                \"Date\":date\n",
    "    \n",
    "    \n",
    "                            })\n",
    "# Set-up count for each \n",
    "city_weather.count()\n"
   ]
  },
  {
   "cell_type": "markdown",
   "metadata": {},
   "source": [
    "### Convert Raw Data to DataFrame\n",
    "* Export the city data into a .csv.\n",
    "* Display the DataFrame"
   ]
  },
  {
   "cell_type": "code",
   "execution_count": 6,
   "metadata": {},
   "outputs": [
    {
     "data": {
      "text/html": [
       "<div>\n",
       "<style scoped>\n",
       "    .dataframe tbody tr th:only-of-type {\n",
       "        vertical-align: middle;\n",
       "    }\n",
       "\n",
       "    .dataframe tbody tr th {\n",
       "        vertical-align: top;\n",
       "    }\n",
       "\n",
       "    .dataframe thead th {\n",
       "        text-align: right;\n",
       "    }\n",
       "</style>\n",
       "<table border=\"1\" class=\"dataframe\">\n",
       "  <thead>\n",
       "    <tr style=\"text-align: right;\">\n",
       "      <th></th>\n",
       "      <th>City</th>\n",
       "      <th>Lat</th>\n",
       "      <th>Lng</th>\n",
       "      <th>Max Temp</th>\n",
       "      <th>Humidity</th>\n",
       "      <th>Cloudiness</th>\n",
       "      <th>Wind Speed</th>\n",
       "      <th>Country</th>\n",
       "      <th>Date</th>\n",
       "    </tr>\n",
       "  </thead>\n",
       "  <tbody>\n",
       "    <tr>\n",
       "      <th>0</th>\n",
       "      <td>Bluff</td>\n",
       "      <td>-46.60</td>\n",
       "      <td>168.33</td>\n",
       "      <td>39.00</td>\n",
       "      <td>83</td>\n",
       "      <td>88</td>\n",
       "      <td>3.00</td>\n",
       "      <td>NZ</td>\n",
       "      <td>1595528386</td>\n",
       "    </tr>\n",
       "    <tr>\n",
       "      <th>1</th>\n",
       "      <td>Akdepe</td>\n",
       "      <td>42.06</td>\n",
       "      <td>59.38</td>\n",
       "      <td>78.80</td>\n",
       "      <td>57</td>\n",
       "      <td>27</td>\n",
       "      <td>6.93</td>\n",
       "      <td>TM</td>\n",
       "      <td>1595528386</td>\n",
       "    </tr>\n",
       "    <tr>\n",
       "      <th>2</th>\n",
       "      <td>San Quintín</td>\n",
       "      <td>30.48</td>\n",
       "      <td>-115.95</td>\n",
       "      <td>69.48</td>\n",
       "      <td>63</td>\n",
       "      <td>47</td>\n",
       "      <td>12.59</td>\n",
       "      <td>MX</td>\n",
       "      <td>1595528386</td>\n",
       "    </tr>\n",
       "    <tr>\n",
       "      <th>3</th>\n",
       "      <td>Upernavik</td>\n",
       "      <td>72.79</td>\n",
       "      <td>-56.15</td>\n",
       "      <td>46.33</td>\n",
       "      <td>74</td>\n",
       "      <td>82</td>\n",
       "      <td>11.45</td>\n",
       "      <td>GL</td>\n",
       "      <td>1595528386</td>\n",
       "    </tr>\n",
       "    <tr>\n",
       "      <th>4</th>\n",
       "      <td>Punta Arenas</td>\n",
       "      <td>-53.15</td>\n",
       "      <td>-70.92</td>\n",
       "      <td>39.20</td>\n",
       "      <td>80</td>\n",
       "      <td>40</td>\n",
       "      <td>13.87</td>\n",
       "      <td>CL</td>\n",
       "      <td>1595528327</td>\n",
       "    </tr>\n",
       "    <tr>\n",
       "      <th>...</th>\n",
       "      <td>...</td>\n",
       "      <td>...</td>\n",
       "      <td>...</td>\n",
       "      <td>...</td>\n",
       "      <td>...</td>\n",
       "      <td>...</td>\n",
       "      <td>...</td>\n",
       "      <td>...</td>\n",
       "      <td>...</td>\n",
       "    </tr>\n",
       "    <tr>\n",
       "      <th>551</th>\n",
       "      <td>Dakar</td>\n",
       "      <td>14.69</td>\n",
       "      <td>-17.44</td>\n",
       "      <td>86.00</td>\n",
       "      <td>79</td>\n",
       "      <td>40</td>\n",
       "      <td>9.17</td>\n",
       "      <td>SN</td>\n",
       "      <td>1595528455</td>\n",
       "    </tr>\n",
       "    <tr>\n",
       "      <th>552</th>\n",
       "      <td>Marang</td>\n",
       "      <td>5.21</td>\n",
       "      <td>103.21</td>\n",
       "      <td>78.80</td>\n",
       "      <td>88</td>\n",
       "      <td>40</td>\n",
       "      <td>2.24</td>\n",
       "      <td>MY</td>\n",
       "      <td>1595528455</td>\n",
       "    </tr>\n",
       "    <tr>\n",
       "      <th>553</th>\n",
       "      <td>Grand Gaube</td>\n",
       "      <td>-20.01</td>\n",
       "      <td>57.66</td>\n",
       "      <td>69.01</td>\n",
       "      <td>60</td>\n",
       "      <td>57</td>\n",
       "      <td>8.99</td>\n",
       "      <td>MU</td>\n",
       "      <td>1595528455</td>\n",
       "    </tr>\n",
       "    <tr>\n",
       "      <th>554</th>\n",
       "      <td>Banda Aceh</td>\n",
       "      <td>5.56</td>\n",
       "      <td>95.32</td>\n",
       "      <td>78.57</td>\n",
       "      <td>76</td>\n",
       "      <td>93</td>\n",
       "      <td>3.98</td>\n",
       "      <td>ID</td>\n",
       "      <td>1595528455</td>\n",
       "    </tr>\n",
       "    <tr>\n",
       "      <th>555</th>\n",
       "      <td>Salekhard</td>\n",
       "      <td>66.53</td>\n",
       "      <td>66.60</td>\n",
       "      <td>52.41</td>\n",
       "      <td>69</td>\n",
       "      <td>28</td>\n",
       "      <td>5.57</td>\n",
       "      <td>RU</td>\n",
       "      <td>1595528455</td>\n",
       "    </tr>\n",
       "  </tbody>\n",
       "</table>\n",
       "<p>556 rows × 9 columns</p>\n",
       "</div>"
      ],
      "text/plain": [
       "             City    Lat     Lng  Max Temp  Humidity  Cloudiness  Wind Speed  \\\n",
       "0           Bluff -46.60  168.33     39.00        83          88        3.00   \n",
       "1          Akdepe  42.06   59.38     78.80        57          27        6.93   \n",
       "2     San Quintín  30.48 -115.95     69.48        63          47       12.59   \n",
       "3       Upernavik  72.79  -56.15     46.33        74          82       11.45   \n",
       "4    Punta Arenas -53.15  -70.92     39.20        80          40       13.87   \n",
       "..            ...    ...     ...       ...       ...         ...         ...   \n",
       "551         Dakar  14.69  -17.44     86.00        79          40        9.17   \n",
       "552        Marang   5.21  103.21     78.80        88          40        2.24   \n",
       "553   Grand Gaube -20.01   57.66     69.01        60          57        8.99   \n",
       "554    Banda Aceh   5.56   95.32     78.57        76          93        3.98   \n",
       "555     Salekhard  66.53   66.60     52.41        69          28        5.57   \n",
       "\n",
       "    Country        Date  \n",
       "0        NZ  1595528386  \n",
       "1        TM  1595528386  \n",
       "2        MX  1595528386  \n",
       "3        GL  1595528386  \n",
       "4        CL  1595528327  \n",
       "..      ...         ...  \n",
       "551      SN  1595528455  \n",
       "552      MY  1595528455  \n",
       "553      MU  1595528455  \n",
       "554      ID  1595528455  \n",
       "555      RU  1595528455  \n",
       "\n",
       "[556 rows x 9 columns]"
      ]
     },
     "execution_count": 6,
     "metadata": {},
     "output_type": "execute_result"
    }
   ],
   "source": [
    "# Display the city_weather DataFrame\n",
    "city_weather"
   ]
  },
  {
   "cell_type": "code",
   "execution_count": 7,
   "metadata": {},
   "outputs": [
    {
     "data": {
      "text/html": [
       "<div>\n",
       "<style scoped>\n",
       "    .dataframe tbody tr th:only-of-type {\n",
       "        vertical-align: middle;\n",
       "    }\n",
       "\n",
       "    .dataframe tbody tr th {\n",
       "        vertical-align: top;\n",
       "    }\n",
       "\n",
       "    .dataframe thead th {\n",
       "        text-align: right;\n",
       "    }\n",
       "</style>\n",
       "<table border=\"1\" class=\"dataframe\">\n",
       "  <thead>\n",
       "    <tr style=\"text-align: right;\">\n",
       "      <th></th>\n",
       "      <th>Lat</th>\n",
       "      <th>Lng</th>\n",
       "      <th>Max Temp</th>\n",
       "      <th>Humidity</th>\n",
       "      <th>Cloudiness</th>\n",
       "      <th>Wind Speed</th>\n",
       "      <th>Date</th>\n",
       "    </tr>\n",
       "  </thead>\n",
       "  <tbody>\n",
       "    <tr>\n",
       "      <th>count</th>\n",
       "      <td>556.000000</td>\n",
       "      <td>556.000000</td>\n",
       "      <td>556.000000</td>\n",
       "      <td>556.000000</td>\n",
       "      <td>556.000000</td>\n",
       "      <td>556.000000</td>\n",
       "      <td>5.560000e+02</td>\n",
       "    </tr>\n",
       "    <tr>\n",
       "      <th>mean</th>\n",
       "      <td>19.828561</td>\n",
       "      <td>17.464173</td>\n",
       "      <td>70.303507</td>\n",
       "      <td>69.402878</td>\n",
       "      <td>51.857914</td>\n",
       "      <td>7.665198</td>\n",
       "      <td>1.595528e+09</td>\n",
       "    </tr>\n",
       "    <tr>\n",
       "      <th>std</th>\n",
       "      <td>32.993892</td>\n",
       "      <td>90.019025</td>\n",
       "      <td>15.090028</td>\n",
       "      <td>20.385110</td>\n",
       "      <td>35.591065</td>\n",
       "      <td>5.146509</td>\n",
       "      <td>6.921202e+01</td>\n",
       "    </tr>\n",
       "    <tr>\n",
       "      <th>min</th>\n",
       "      <td>-54.800000</td>\n",
       "      <td>-179.170000</td>\n",
       "      <td>28.990000</td>\n",
       "      <td>12.000000</td>\n",
       "      <td>0.000000</td>\n",
       "      <td>0.360000</td>\n",
       "      <td>1.595528e+09</td>\n",
       "    </tr>\n",
       "    <tr>\n",
       "      <th>25%</th>\n",
       "      <td>-6.122500</td>\n",
       "      <td>-62.047500</td>\n",
       "      <td>57.977500</td>\n",
       "      <td>58.000000</td>\n",
       "      <td>20.000000</td>\n",
       "      <td>3.832500</td>\n",
       "      <td>1.595528e+09</td>\n",
       "    </tr>\n",
       "    <tr>\n",
       "      <th>50%</th>\n",
       "      <td>20.795000</td>\n",
       "      <td>21.420000</td>\n",
       "      <td>72.570000</td>\n",
       "      <td>74.000000</td>\n",
       "      <td>51.500000</td>\n",
       "      <td>6.210000</td>\n",
       "      <td>1.595528e+09</td>\n",
       "    </tr>\n",
       "    <tr>\n",
       "      <th>75%</th>\n",
       "      <td>47.825000</td>\n",
       "      <td>98.307500</td>\n",
       "      <td>82.252500</td>\n",
       "      <td>85.000000</td>\n",
       "      <td>87.000000</td>\n",
       "      <td>10.290000</td>\n",
       "      <td>1.595528e+09</td>\n",
       "    </tr>\n",
       "    <tr>\n",
       "      <th>max</th>\n",
       "      <td>78.220000</td>\n",
       "      <td>179.320000</td>\n",
       "      <td>108.770000</td>\n",
       "      <td>100.000000</td>\n",
       "      <td>100.000000</td>\n",
       "      <td>29.530000</td>\n",
       "      <td>1.595528e+09</td>\n",
       "    </tr>\n",
       "  </tbody>\n",
       "</table>\n",
       "</div>"
      ],
      "text/plain": [
       "              Lat         Lng    Max Temp    Humidity  Cloudiness  Wind Speed  \\\n",
       "count  556.000000  556.000000  556.000000  556.000000  556.000000  556.000000   \n",
       "mean    19.828561   17.464173   70.303507   69.402878   51.857914    7.665198   \n",
       "std     32.993892   90.019025   15.090028   20.385110   35.591065    5.146509   \n",
       "min    -54.800000 -179.170000   28.990000   12.000000    0.000000    0.360000   \n",
       "25%     -6.122500  -62.047500   57.977500   58.000000   20.000000    3.832500   \n",
       "50%     20.795000   21.420000   72.570000   74.000000   51.500000    6.210000   \n",
       "75%     47.825000   98.307500   82.252500   85.000000   87.000000   10.290000   \n",
       "max     78.220000  179.320000  108.770000  100.000000  100.000000   29.530000   \n",
       "\n",
       "               Date  \n",
       "count  5.560000e+02  \n",
       "mean   1.595528e+09  \n",
       "std    6.921202e+01  \n",
       "min    1.595528e+09  \n",
       "25%    1.595528e+09  \n",
       "50%    1.595528e+09  \n",
       "75%    1.595528e+09  \n",
       "max    1.595528e+09  "
      ]
     },
     "execution_count": 7,
     "metadata": {},
     "output_type": "execute_result"
    }
   ],
   "source": [
    "# Using .describe() to pull the statistical data  \n",
    "city_weather.describe()"
   ]
  },
  {
   "cell_type": "code",
   "execution_count": 8,
   "metadata": {},
   "outputs": [],
   "source": [
    "# Exports csv to output_data folder\n",
    "city_weather.to_csv(\"../output_data/city_weather.csv\",encoding=\"utf-8\", index=False, header=True)"
   ]
  },
  {
   "cell_type": "markdown",
   "metadata": {},
   "source": [
    "## Inspect the data and remove the cities where the humidity > 100%.\n",
    "----\n",
    "Skip this step if there are no cities that have humidity > 100%. "
   ]
  },
  {
   "cell_type": "code",
   "execution_count": 9,
   "metadata": {},
   "outputs": [
    {
     "data": {
      "text/plain": [
       "Int64Index([], dtype='int64')"
      ]
     },
     "execution_count": 9,
     "metadata": {},
     "output_type": "execute_result"
    }
   ],
   "source": [
    "#  Get the indices of cities that have humidity over 100%.\n",
    "humid_over_hun = city_weather.loc[city_weather[\"Humidity\"]>100].index\n",
    "humid_over_hun \n",
    "\n",
    "# NOTE: Does not seem to be any cities with humidity over 100"
   ]
  },
  {
   "cell_type": "markdown",
   "metadata": {},
   "source": [
    "##### Make a new DataFrame equal to the city data to drop all humidity outliers by index.\n",
    "Passing \"inplace=False\" will make a copy of the city_data DataFrame, which we call \"clean_city_data\".\n",
    "\n",
    "* Skipped this section because there are no cities that came up over 100 humidity"
   ]
  },
  {
   "cell_type": "markdown",
   "metadata": {},
   "source": [
    "#### Extract relevant fields from the data frame\n",
    "* Skipped this section because there are no cities that came up over 100 humidity\n",
    "\n",
    "\n",
    "#### Exports csv to output_data folder\n",
    "* Skipping because no change in DataFrame"
   ]
  },
  {
   "cell_type": "markdown",
   "metadata": {},
   "source": [
    "## Plotting the Data\n",
    "* Use proper labeling of the plots using plot titles (including date of analysis) and axes labels.\n",
    "* Save the plotted figures as .pngs."
   ]
  },
  {
   "cell_type": "markdown",
   "metadata": {},
   "source": [
    "## Latitude vs. Temperature Plot"
   ]
  },
  {
   "cell_type": "code",
   "execution_count": 10,
   "metadata": {
    "scrolled": true
   },
   "outputs": [
    {
     "data": {
      "image/png": "[encoded data removed]",
      "text/plain": [
       "<Figure size 432x288 with 1 Axes>"
      ]
     },
     "metadata": {
      "needs_background": "light"
     },
     "output_type": "display_data"
    }
   ],
   "source": [
    "x_values = city_weather[\"Lat\"]\n",
    "y_values = city_weather[\"Max Temp\"]\n",
    "plt.scatter(x_values,y_values, marker=\"o\",edgecolors=\"black\")\n",
    "plt.title(\"City Latitude vs. Max Temperature (%s)\" % time.strftime(\"%x\"))\n",
    "plt.xlabel(\"Latitude\")\n",
    "plt.ylabel(\"Max Temperature (F)\")\n",
    "plt.grid()\n",
    "plt.savefig(\"../output_data/Images/LatvsTemp.png\")\n",
    "plt.show()"
   ]
  },
  {
   "cell_type": "markdown",
   "metadata": {},
   "source": [
    "#### Sentence explaining code and analyzing plot: City Latitude vs. Max Temperature\n",
    "Created a scatter plot to display any relationship Max Temperature may have with Latitude. \n",
    "As you get closer to the equator (from either direction), the max temperature gets higher. "
   ]
  },
  {
   "cell_type": "markdown",
   "metadata": {},
   "source": [
    "## Latitude vs. Humidity Plot"
   ]
  },
  {
   "cell_type": "code",
   "execution_count": 11,
   "metadata": {},
   "outputs": [
    {
     "data": {
      "image/png": "[encoded data removed]",
      "text/plain": [
       "<Figure size 432x288 with 1 Axes>"
      ]
     },
     "metadata": {
      "needs_background": "light"
     },
     "output_type": "display_data"
    }
   ],
   "source": [
    "x_values = city_weather[\"Lat\"]\n",
    "y_values = city_weather[\"Humidity\"]\n",
    "plt.scatter(x_values,y_values, marker=\"o\",edgecolors=\"black\")\n",
    "plt.title(\"City Latitude vs. Humidity (%s)\" % time.strftime(\"%x\"))\n",
    "plt.xlabel(\"Latitude\")\n",
    "plt.ylabel(\"Humidity\")\n",
    "plt.grid()\n",
    "plt.savefig(\"../output_data/Images/LatvsHumidity.png\")\n",
    "plt.show()"
   ]
  },
  {
   "cell_type": "markdown",
   "metadata": {},
   "source": [
    "#### Sentence explaining code and analyzing plot: Latitude vs. Humidity\n",
    "Created a scatter plot do display any relationship with Latitude and Humidity. \n",
    "There does not seem to be any sort of relationship between Humidity and Latitude. \n",
    "It is almost as high humidity at -60 Latitude as it is near the equator(0), \n",
    "and as humid in some places at 80 Latitude."
   ]
  },
  {
   "cell_type": "markdown",
   "metadata": {},
   "source": [
    "## Latitude vs. Cloudiness Plot"
   ]
  },
  {
   "cell_type": "code",
   "execution_count": 12,
   "metadata": {},
   "outputs": [
    {
     "data": {
      "image/png": "[encoded data removed]",
      "text/plain": [
       "<Figure size 432x288 with 1 Axes>"
      ]
     },
     "metadata": {
      "needs_background": "light"
     },
     "output_type": "display_data"
    }
   ],
   "source": [
    "x_values = city_weather[\"Lat\"]\n",
    "y_values = city_weather[\"Cloudiness\"]\n",
    "plt.scatter(x_values,y_values, marker=\"o\",edgecolors=\"black\")\n",
    "plt.title(\"City Latitude vs. Cloudiness (%s)\" % time.strftime(\"%x\") )\n",
    "plt.xlabel('Latitude')\n",
    "plt.ylabel('Cloudiness')\n",
    "plt.grid()\n",
    "plt.savefig(\"../output_data/Images/LatvsCloudiness.png\")\n",
    "plt.show()"
   ]
  },
  {
   "cell_type": "markdown",
   "metadata": {},
   "source": [
    "#### Sentence explaining code and analyzing plot\n",
    "Created a scatter plot to display any relationship between Latitude and Cloudiness. \n",
    "There does not appear to be any sort of relationship between Cloudiness and Latitude."
   ]
  },
  {
   "cell_type": "markdown",
   "metadata": {},
   "source": [
    "## Latitude vs. Wind Speed Plot"
   ]
  },
  {
   "cell_type": "code",
   "execution_count": 13,
   "metadata": {},
   "outputs": [
    {
     "data": {
      "image/png": "[encoded data removed]",
      "text/plain": [
       "<Figure size 432x288 with 1 Axes>"
      ]
     },
     "metadata": {
      "needs_background": "light"
     },
     "output_type": "display_data"
    }
   ],
   "source": [
    "x_values = city_weather[\"Lat\"]\n",
    "y_values = city_weather[\"Wind Speed\"]\n",
    "plt.scatter(x_values,y_values, marker=\"o\",edgecolors=\"black\")\n",
    "plt.title(\"City Latitude vs. Wind Speed (%s)\" % time.strftime(\"%x\"))\n",
    "plt.xlabel('Latitude')\n",
    "plt.ylabel('Wind Speed (mph)')\n",
    "plt.grid()\n",
    "plt.savefig(\"../output_data/Images/LatvsWindSpeed.png\")\n",
    "plt.show()"
   ]
  },
  {
   "cell_type": "markdown",
   "metadata": {},
   "source": [
    "#### Sentence explaining code and analyzing plot\n",
    "Created a scatter plot to display any relationship between Latitude and Wind Speed. \n",
    "There does not appear to be any sort of relationship between Latitude and Wind Speed here. "
   ]
  },
  {
   "cell_type": "markdown",
   "metadata": {},
   "source": [
    "## Linear Regression"
   ]
  },
  {
   "cell_type": "code",
   "execution_count": 14,
   "metadata": {},
   "outputs": [],
   "source": [
    "# OPTIONAL: Create a function to create Linear Regression plots\n",
    "def linear_reg(x_values, y_values, title, text_coordinates,save_fig):\n",
    "    (slope, intercept, rvalue, pvalue, stderr) = linregress(x_values, y_values)\n",
    "    regress_values = x_values * slope + intercept\n",
    "    line_eq = \"y = \" + str(round(slope,2)) + \"x + \" + str(round(intercept,2))\n",
    "    #Plotting\n",
    "    plt.scatter(x_values,y_values)\n",
    "    plt.plot(x_values,regress_values,\"r-\")\n",
    "    plt.annotate(line_eq,text_coordinates,fontsize=15,color=\"red\")\n",
    "    plt.xlabel('Latitude')\n",
    "    plt.ylabel(title)\n",
    "    plt.savefig(save_fig)\n",
    "    print(f\"The r-squared is: {rvalue**2}\")\n",
    "    plt.show()"
   ]
  },
  {
   "cell_type": "code",
   "execution_count": 15,
   "metadata": {},
   "outputs": [
    {
     "data": {
      "text/html": [
       "<div>\n",
       "<style scoped>\n",
       "    .dataframe tbody tr th:only-of-type {\n",
       "        vertical-align: middle;\n",
       "    }\n",
       "\n",
       "    .dataframe tbody tr th {\n",
       "        vertical-align: top;\n",
       "    }\n",
       "\n",
       "    .dataframe thead th {\n",
       "        text-align: right;\n",
       "    }\n",
       "</style>\n",
       "<table border=\"1\" class=\"dataframe\">\n",
       "  <thead>\n",
       "    <tr style=\"text-align: right;\">\n",
       "      <th></th>\n",
       "      <th>City</th>\n",
       "      <th>Lat</th>\n",
       "      <th>Lng</th>\n",
       "      <th>Max Temp</th>\n",
       "      <th>Humidity</th>\n",
       "      <th>Cloudiness</th>\n",
       "      <th>Wind Speed</th>\n",
       "      <th>Country</th>\n",
       "      <th>Date</th>\n",
       "    </tr>\n",
       "  </thead>\n",
       "  <tbody>\n",
       "    <tr>\n",
       "      <th>1</th>\n",
       "      <td>Akdepe</td>\n",
       "      <td>42.06</td>\n",
       "      <td>59.38</td>\n",
       "      <td>78.80</td>\n",
       "      <td>57</td>\n",
       "      <td>27</td>\n",
       "      <td>6.93</td>\n",
       "      <td>TM</td>\n",
       "      <td>1595528386</td>\n",
       "    </tr>\n",
       "    <tr>\n",
       "      <th>2</th>\n",
       "      <td>San Quintín</td>\n",
       "      <td>30.48</td>\n",
       "      <td>-115.95</td>\n",
       "      <td>69.48</td>\n",
       "      <td>63</td>\n",
       "      <td>47</td>\n",
       "      <td>12.59</td>\n",
       "      <td>MX</td>\n",
       "      <td>1595528386</td>\n",
       "    </tr>\n",
       "    <tr>\n",
       "      <th>3</th>\n",
       "      <td>Upernavik</td>\n",
       "      <td>72.79</td>\n",
       "      <td>-56.15</td>\n",
       "      <td>46.33</td>\n",
       "      <td>74</td>\n",
       "      <td>82</td>\n",
       "      <td>11.45</td>\n",
       "      <td>GL</td>\n",
       "      <td>1595528386</td>\n",
       "    </tr>\n",
       "    <tr>\n",
       "      <th>6</th>\n",
       "      <td>Bethel</td>\n",
       "      <td>41.37</td>\n",
       "      <td>-73.41</td>\n",
       "      <td>84.99</td>\n",
       "      <td>66</td>\n",
       "      <td>20</td>\n",
       "      <td>10.29</td>\n",
       "      <td>US</td>\n",
       "      <td>1595528262</td>\n",
       "    </tr>\n",
       "    <tr>\n",
       "      <th>7</th>\n",
       "      <td>Lompoc</td>\n",
       "      <td>34.64</td>\n",
       "      <td>-120.46</td>\n",
       "      <td>66.00</td>\n",
       "      <td>77</td>\n",
       "      <td>65</td>\n",
       "      <td>3.36</td>\n",
       "      <td>US</td>\n",
       "      <td>1595528201</td>\n",
       "    </tr>\n",
       "    <tr>\n",
       "      <th>...</th>\n",
       "      <td>...</td>\n",
       "      <td>...</td>\n",
       "      <td>...</td>\n",
       "      <td>...</td>\n",
       "      <td>...</td>\n",
       "      <td>...</td>\n",
       "      <td>...</td>\n",
       "      <td>...</td>\n",
       "      <td>...</td>\n",
       "    </tr>\n",
       "    <tr>\n",
       "      <th>549</th>\n",
       "      <td>Bud</td>\n",
       "      <td>39.45</td>\n",
       "      <td>-86.18</td>\n",
       "      <td>84.99</td>\n",
       "      <td>68</td>\n",
       "      <td>77</td>\n",
       "      <td>7.43</td>\n",
       "      <td>US</td>\n",
       "      <td>1595528454</td>\n",
       "    </tr>\n",
       "    <tr>\n",
       "      <th>551</th>\n",
       "      <td>Dakar</td>\n",
       "      <td>14.69</td>\n",
       "      <td>-17.44</td>\n",
       "      <td>86.00</td>\n",
       "      <td>79</td>\n",
       "      <td>40</td>\n",
       "      <td>9.17</td>\n",
       "      <td>SN</td>\n",
       "      <td>1595528455</td>\n",
       "    </tr>\n",
       "    <tr>\n",
       "      <th>552</th>\n",
       "      <td>Marang</td>\n",
       "      <td>5.21</td>\n",
       "      <td>103.21</td>\n",
       "      <td>78.80</td>\n",
       "      <td>88</td>\n",
       "      <td>40</td>\n",
       "      <td>2.24</td>\n",
       "      <td>MY</td>\n",
       "      <td>1595528455</td>\n",
       "    </tr>\n",
       "    <tr>\n",
       "      <th>554</th>\n",
       "      <td>Banda Aceh</td>\n",
       "      <td>5.56</td>\n",
       "      <td>95.32</td>\n",
       "      <td>78.57</td>\n",
       "      <td>76</td>\n",
       "      <td>93</td>\n",
       "      <td>3.98</td>\n",
       "      <td>ID</td>\n",
       "      <td>1595528455</td>\n",
       "    </tr>\n",
       "    <tr>\n",
       "      <th>555</th>\n",
       "      <td>Salekhard</td>\n",
       "      <td>66.53</td>\n",
       "      <td>66.60</td>\n",
       "      <td>52.41</td>\n",
       "      <td>69</td>\n",
       "      <td>28</td>\n",
       "      <td>5.57</td>\n",
       "      <td>RU</td>\n",
       "      <td>1595528455</td>\n",
       "    </tr>\n",
       "  </tbody>\n",
       "</table>\n",
       "<p>391 rows × 9 columns</p>\n",
       "</div>"
      ],
      "text/plain": [
       "            City    Lat     Lng  Max Temp  Humidity  Cloudiness  Wind Speed  \\\n",
       "1         Akdepe  42.06   59.38     78.80        57          27        6.93   \n",
       "2    San Quintín  30.48 -115.95     69.48        63          47       12.59   \n",
       "3      Upernavik  72.79  -56.15     46.33        74          82       11.45   \n",
       "6         Bethel  41.37  -73.41     84.99        66          20       10.29   \n",
       "7         Lompoc  34.64 -120.46     66.00        77          65        3.36   \n",
       "..           ...    ...     ...       ...       ...         ...         ...   \n",
       "549          Bud  39.45  -86.18     84.99        68          77        7.43   \n",
       "551        Dakar  14.69  -17.44     86.00        79          40        9.17   \n",
       "552       Marang   5.21  103.21     78.80        88          40        2.24   \n",
       "554   Banda Aceh   5.56   95.32     78.57        76          93        3.98   \n",
       "555    Salekhard  66.53   66.60     52.41        69          28        5.57   \n",
       "\n",
       "    Country        Date  \n",
       "1        TM  1595528386  \n",
       "2        MX  1595528386  \n",
       "3        GL  1595528386  \n",
       "6        US  1595528262  \n",
       "7        US  1595528201  \n",
       "..      ...         ...  \n",
       "549      US  1595528454  \n",
       "551      SN  1595528455  \n",
       "552      MY  1595528455  \n",
       "554      ID  1595528455  \n",
       "555      RU  1595528455  \n",
       "\n",
       "[391 rows x 9 columns]"
      ]
     },
     "execution_count": 15,
     "metadata": {},
     "output_type": "execute_result"
    }
   ],
   "source": [
    "# Create Northern and Southern Hemisphere DataFrames\n",
    "# those above lat 0 = northern hemisphere\n",
    "# those below lat 0 = southern hemisphere\n",
    "\n",
    "# Created DataFrame for Northern Hemisphere\n",
    "northern_df = city_weather.loc[city_weather[\"Lat\"]>0]\n",
    "northern_df"
   ]
  },
  {
   "cell_type": "code",
   "execution_count": 16,
   "metadata": {},
   "outputs": [
    {
     "data": {
      "text/html": [
       "<div>\n",
       "<style scoped>\n",
       "    .dataframe tbody tr th:only-of-type {\n",
       "        vertical-align: middle;\n",
       "    }\n",
       "\n",
       "    .dataframe tbody tr th {\n",
       "        vertical-align: top;\n",
       "    }\n",
       "\n",
       "    .dataframe thead th {\n",
       "        text-align: right;\n",
       "    }\n",
       "</style>\n",
       "<table border=\"1\" class=\"dataframe\">\n",
       "  <thead>\n",
       "    <tr style=\"text-align: right;\">\n",
       "      <th></th>\n",
       "      <th>City</th>\n",
       "      <th>Lat</th>\n",
       "      <th>Lng</th>\n",
       "      <th>Max Temp</th>\n",
       "      <th>Humidity</th>\n",
       "      <th>Cloudiness</th>\n",
       "      <th>Wind Speed</th>\n",
       "      <th>Country</th>\n",
       "      <th>Date</th>\n",
       "    </tr>\n",
       "  </thead>\n",
       "  <tbody>\n",
       "    <tr>\n",
       "      <th>0</th>\n",
       "      <td>Bluff</td>\n",
       "      <td>-46.60</td>\n",
       "      <td>168.33</td>\n",
       "      <td>39.00</td>\n",
       "      <td>83</td>\n",
       "      <td>88</td>\n",
       "      <td>3.00</td>\n",
       "      <td>NZ</td>\n",
       "      <td>1595528386</td>\n",
       "    </tr>\n",
       "    <tr>\n",
       "      <th>4</th>\n",
       "      <td>Punta Arenas</td>\n",
       "      <td>-53.15</td>\n",
       "      <td>-70.92</td>\n",
       "      <td>39.20</td>\n",
       "      <td>80</td>\n",
       "      <td>40</td>\n",
       "      <td>13.87</td>\n",
       "      <td>CL</td>\n",
       "      <td>1595528327</td>\n",
       "    </tr>\n",
       "    <tr>\n",
       "      <th>5</th>\n",
       "      <td>Castro</td>\n",
       "      <td>-24.79</td>\n",
       "      <td>-50.01</td>\n",
       "      <td>73.87</td>\n",
       "      <td>46</td>\n",
       "      <td>20</td>\n",
       "      <td>6.44</td>\n",
       "      <td>BR</td>\n",
       "      <td>1595528386</td>\n",
       "    </tr>\n",
       "    <tr>\n",
       "      <th>9</th>\n",
       "      <td>Kruisfontein</td>\n",
       "      <td>-34.00</td>\n",
       "      <td>24.73</td>\n",
       "      <td>55.99</td>\n",
       "      <td>64</td>\n",
       "      <td>0</td>\n",
       "      <td>2.75</td>\n",
       "      <td>ZA</td>\n",
       "      <td>1595528387</td>\n",
       "    </tr>\n",
       "    <tr>\n",
       "      <th>13</th>\n",
       "      <td>Mataura</td>\n",
       "      <td>-46.19</td>\n",
       "      <td>168.86</td>\n",
       "      <td>39.00</td>\n",
       "      <td>83</td>\n",
       "      <td>88</td>\n",
       "      <td>3.00</td>\n",
       "      <td>NZ</td>\n",
       "      <td>1595528387</td>\n",
       "    </tr>\n",
       "    <tr>\n",
       "      <th>...</th>\n",
       "      <td>...</td>\n",
       "      <td>...</td>\n",
       "      <td>...</td>\n",
       "      <td>...</td>\n",
       "      <td>...</td>\n",
       "      <td>...</td>\n",
       "      <td>...</td>\n",
       "      <td>...</td>\n",
       "      <td>...</td>\n",
       "    </tr>\n",
       "    <tr>\n",
       "      <th>538</th>\n",
       "      <td>Burnie</td>\n",
       "      <td>-41.07</td>\n",
       "      <td>145.92</td>\n",
       "      <td>39.99</td>\n",
       "      <td>79</td>\n",
       "      <td>86</td>\n",
       "      <td>1.01</td>\n",
       "      <td>AU</td>\n",
       "      <td>1595528453</td>\n",
       "    </tr>\n",
       "    <tr>\n",
       "      <th>546</th>\n",
       "      <td>Caiapônia</td>\n",
       "      <td>-16.96</td>\n",
       "      <td>-51.81</td>\n",
       "      <td>86.43</td>\n",
       "      <td>25</td>\n",
       "      <td>0</td>\n",
       "      <td>5.12</td>\n",
       "      <td>BR</td>\n",
       "      <td>1595528454</td>\n",
       "    </tr>\n",
       "    <tr>\n",
       "      <th>547</th>\n",
       "      <td>Sorong</td>\n",
       "      <td>-0.88</td>\n",
       "      <td>131.25</td>\n",
       "      <td>78.03</td>\n",
       "      <td>86</td>\n",
       "      <td>36</td>\n",
       "      <td>6.76</td>\n",
       "      <td>ID</td>\n",
       "      <td>1595528454</td>\n",
       "    </tr>\n",
       "    <tr>\n",
       "      <th>550</th>\n",
       "      <td>Sumbe</td>\n",
       "      <td>-11.21</td>\n",
       "      <td>13.84</td>\n",
       "      <td>70.68</td>\n",
       "      <td>86</td>\n",
       "      <td>1</td>\n",
       "      <td>7.81</td>\n",
       "      <td>AO</td>\n",
       "      <td>1595528455</td>\n",
       "    </tr>\n",
       "    <tr>\n",
       "      <th>553</th>\n",
       "      <td>Grand Gaube</td>\n",
       "      <td>-20.01</td>\n",
       "      <td>57.66</td>\n",
       "      <td>69.01</td>\n",
       "      <td>60</td>\n",
       "      <td>57</td>\n",
       "      <td>8.99</td>\n",
       "      <td>MU</td>\n",
       "      <td>1595528455</td>\n",
       "    </tr>\n",
       "  </tbody>\n",
       "</table>\n",
       "<p>165 rows × 9 columns</p>\n",
       "</div>"
      ],
      "text/plain": [
       "             City    Lat     Lng  Max Temp  Humidity  Cloudiness  Wind Speed  \\\n",
       "0           Bluff -46.60  168.33     39.00        83          88        3.00   \n",
       "4    Punta Arenas -53.15  -70.92     39.20        80          40       13.87   \n",
       "5          Castro -24.79  -50.01     73.87        46          20        6.44   \n",
       "9    Kruisfontein -34.00   24.73     55.99        64           0        2.75   \n",
       "13        Mataura -46.19  168.86     39.00        83          88        3.00   \n",
       "..            ...    ...     ...       ...       ...         ...         ...   \n",
       "538        Burnie -41.07  145.92     39.99        79          86        1.01   \n",
       "546     Caiapônia -16.96  -51.81     86.43        25           0        5.12   \n",
       "547        Sorong  -0.88  131.25     78.03        86          36        6.76   \n",
       "550         Sumbe -11.21   13.84     70.68        86           1        7.81   \n",
       "553   Grand Gaube -20.01   57.66     69.01        60          57        8.99   \n",
       "\n",
       "    Country        Date  \n",
       "0        NZ  1595528386  \n",
       "4        CL  1595528327  \n",
       "5        BR  1595528386  \n",
       "9        ZA  1595528387  \n",
       "13       NZ  1595528387  \n",
       "..      ...         ...  \n",
       "538      AU  1595528453  \n",
       "546      BR  1595528454  \n",
       "547      ID  1595528454  \n",
       "550      AO  1595528455  \n",
       "553      MU  1595528455  \n",
       "\n",
       "[165 rows x 9 columns]"
      ]
     },
     "execution_count": 16,
     "metadata": {},
     "output_type": "execute_result"
    }
   ],
   "source": [
    "# Created DataFrame for Southern Hemisphere\n",
    "southern_df = city_weather.loc[city_weather[\"Lat\"]<0]\n",
    "southern_df"
   ]
  },
  {
   "cell_type": "markdown",
   "metadata": {},
   "source": [
    "####  Northern Hemisphere - Max Temp vs. Latitude Linear Regression"
   ]
  },
  {
   "cell_type": "code",
   "execution_count": 17,
   "metadata": {},
   "outputs": [
    {
     "name": "stdout",
     "output_type": "stream",
     "text": [
      "The r-squared is: 0.5119774415904236\n"
     ]
    },
    {
     "data": {
      "image/png": "[encoded data removed]",
      "text/plain": [
       "<Figure size 432x288 with 1 Axes>"
      ]
     },
     "metadata": {
      "needs_background": "light"
     },
     "output_type": "display_data"
    }
   ],
   "source": [
    "# Max Temp vs. Latitude Northern using linear regression function\n",
    "x_values = northern_df[\"Lat\"]\n",
    "y_values = northern_df[\"Max Temp\"]\n",
    "linear_reg(x_values, y_values, 'Max Temp', (10,50),'../output_data/Images/N_MaxTempvsLat.png')"
   ]
  },
  {
   "cell_type": "markdown",
   "metadata": {},
   "source": [
    "#### Explain what linear regression is modeling/relationships, other analysis: Northern Max Temps vs. Latitude\n",
    "This plot is displaying the linear regression and relationship between the \n",
    "Northern Hemisphere's Max Temp and Latitude. You can tell there is a pretty \n",
    "good relationship here between Latitude and Max Temp as the temperatures get higher toward\n",
    "the equator(0 Latitude)."
   ]
  },
  {
   "cell_type": "markdown",
   "metadata": {},
   "source": [
    "####  Southern Hemisphere - Max Temp vs. Latitude Linear Regression"
   ]
  },
  {
   "cell_type": "code",
   "execution_count": 18,
   "metadata": {},
   "outputs": [
    {
     "name": "stdout",
     "output_type": "stream",
     "text": [
      "The r-squared is: 0.5764565365956735\n"
     ]
    },
    {
     "data": {
      "image/png": "[encoded data removed]",
      "text/plain": [
       "<Figure size 432x288 with 1 Axes>"
      ]
     },
     "metadata": {
      "needs_background": "light"
     },
     "output_type": "display_data"
    }
   ],
   "source": [
    "# Max Temp vs. Latitude Southern using linear regression function\n",
    "x_values = southern_df[\"Lat\"]\n",
    "y_values = southern_df[\"Max Temp\"]\n",
    "linear_reg(x_values, y_values, 'Max Temp', (-40,30),'../output_data/Images/S_MaxTempvsLat.png')"
   ]
  },
  {
   "cell_type": "markdown",
   "metadata": {},
   "source": [
    "#### Explain what linear regression is modeling/relationships, other analysis: Southern Max Temps vs. Latitude\n",
    "This plot is showing an even better relationship between Max Temp and Latitude. You can see from the \n",
    "plot here that the max temperatures are definitely higher towards the equator(0)."
   ]
  },
  {
   "cell_type": "markdown",
   "metadata": {},
   "source": [
    "####  Northern Hemisphere - Humidity (%) vs. Latitude Linear Regression"
   ]
  },
  {
   "cell_type": "code",
   "execution_count": 19,
   "metadata": {},
   "outputs": [
    {
     "name": "stdout",
     "output_type": "stream",
     "text": [
      "The r-squared is: 0.00023715908187711568\n"
     ]
    },
    {
     "data": {
      "image/png": "[encoded data removed]",
      "text/plain": [
       "<Figure size 432x288 with 1 Axes>"
      ]
     },
     "metadata": {
      "needs_background": "light"
     },
     "output_type": "display_data"
    }
   ],
   "source": [
    "# Humidity vs. Latitude Northern using linear regression function\n",
    "x_values = northern_df[\"Lat\"]\n",
    "y_values = northern_df[\"Humidity\"]\n",
    "linear_reg(x_values, y_values, 'Humidity', (40,15),'../output_data/Images/N_HumidityvsLat.png')"
   ]
  },
  {
   "cell_type": "markdown",
   "metadata": {},
   "source": [
    "#### Explain what linear regression is modeling/relationships, other analysis: Northern Humidity vs. Latitude\n",
    "This plot displays the Northern Hemisphere relationship between Humidity and Latitude. \n",
    "There does not appear to be any real correlation between Humidity and Latitude here. This\n",
    "data was pulled in the height of summer and humidity will tend to be higher in the summer months\n",
    "in most places."
   ]
  },
  {
   "cell_type": "markdown",
   "metadata": {},
   "source": [
    "####  Southern Hemisphere - Humidity (%) vs. Latitude Linear Regression"
   ]
  },
  {
   "cell_type": "code",
   "execution_count": 20,
   "metadata": {},
   "outputs": [
    {
     "name": "stdout",
     "output_type": "stream",
     "text": [
      "The r-squared is: 0.020250114207974644\n"
     ]
    },
    {
     "data": {
      "image/png": "[encoded data removed]",
      "text/plain": [
       "<Figure size 432x288 with 1 Axes>"
      ]
     },
     "metadata": {
      "needs_background": "light"
     },
     "output_type": "display_data"
    }
   ],
   "source": [
    "# Humidity vs. Latitude Southern using linear regression function\n",
    "x_values = southern_df[\"Lat\"]\n",
    "y_values = southern_df[\"Humidity\"]\n",
    "linear_reg(x_values, y_values, \"Humidity\", (-50,20), '../output_data/Images/S_HumidityvsLat.png')"
   ]
  },
  {
   "cell_type": "markdown",
   "metadata": {},
   "source": [
    "#### Explain what linear regression is modeling/relationships, other analysis: Southern Humidity vs. Latitude\n",
    "This plot depicts the relationship between Humidity and Latitude in the Southern Hemisphere.\n",
    "There still does not appear to much correlation between Humidity and Latitude in the \n",
    "southern hemisphere either. You can see from this plot above that there are actually \n",
    "some spots that are lower in humidity as they are closer to the equator(0)."
   ]
  },
  {
   "cell_type": "markdown",
   "metadata": {},
   "source": [
    "####  Northern Hemisphere - Cloudiness (%) vs. Latitude Linear Regression"
   ]
  },
  {
   "cell_type": "code",
   "execution_count": 21,
   "metadata": {},
   "outputs": [
    {
     "name": "stdout",
     "output_type": "stream",
     "text": [
      "The r-squared is: 0.0008371706241603425\n"
     ]
    },
    {
     "data": {
      "image/png": "[encoded data removed]",
      "text/plain": [
       "<Figure size 432x288 with 1 Axes>"
      ]
     },
     "metadata": {
      "needs_background": "light"
     },
     "output_type": "display_data"
    }
   ],
   "source": [
    "# Cloudiness vs. Latitude Northern using linear regression function\n",
    "x_values = northern_df[\"Lat\"]\n",
    "y_values = northern_df[\"Cloudiness\"]\n",
    "linear_reg(x_values, y_values,\"Cloudiness\",(30,55),'../output_data/Images/N_CloudinessvsLat.png')"
   ]
  },
  {
   "cell_type": "markdown",
   "metadata": {},
   "source": [
    "#### Explain what linear regression is modeling/relationships, other analysis: Northern Cloudiness vs. Latitude\n",
    "This plot displays the relationship between Cloudiness and Latitude in the Northern Hemisphere. There appears \n",
    "to be no correlation between Cloudiness and Latitude in the Northern Hemisphere. "
   ]
  },
  {
   "cell_type": "markdown",
   "metadata": {},
   "source": [
    "####  Southern Hemisphere - Cloudiness (%) vs. Latitude Linear Regression"
   ]
  },
  {
   "cell_type": "code",
   "execution_count": 22,
   "metadata": {},
   "outputs": [
    {
     "name": "stdout",
     "output_type": "stream",
     "text": [
      "The r-squared is: 0.004365335424391686\n"
     ]
    },
    {
     "data": {
      "image/png": "[encoded data removed]",
      "text/plain": [
       "<Figure size 432x288 with 1 Axes>"
      ]
     },
     "metadata": {
      "needs_background": "light"
     },
     "output_type": "display_data"
    }
   ],
   "source": [
    "# Cloudiness vs. Latitude Southern using linear regression function\n",
    "x_values = southern_df[\"Lat\"]\n",
    "y_values = southern_df[\"Cloudiness\"]\n",
    "linear_reg(x_values, y_values,\"Cloudiness\",(-40,60),'../output_data/Images/S_CloudinessvsLat.png')"
   ]
  },
  {
   "cell_type": "markdown",
   "metadata": {},
   "source": [
    "#### Explain what linear regression is modeling/relationships, other analysis: Southern Cloudiness vs. Latitude\n",
    "This plot displays the relationship between Cloudiness and Latitude in the Southern Hemisphere. There does not appear\n",
    "to be a very strong correlation between Cloudiness and Latitude in the Southern Hemisphere. "
   ]
  },
  {
   "cell_type": "markdown",
   "metadata": {},
   "source": [
    "####  Northern Hemisphere - Wind Speed (mph) vs. Latitude Linear Regression"
   ]
  },
  {
   "cell_type": "code",
   "execution_count": 23,
   "metadata": {},
   "outputs": [
    {
     "name": "stdout",
     "output_type": "stream",
     "text": [
      "The r-squared is: 0.005656187329059601\n"
     ]
    },
    {
     "data": {
      "image/png": "[encoded data removed]",
      "text/plain": [
       "<Figure size 432x288 with 1 Axes>"
      ]
     },
     "metadata": {
      "needs_background": "light"
     },
     "output_type": "display_data"
    }
   ],
   "source": [
    "# Wind Speed vs. Latitude Northern using linear regression function\n",
    "x_values = northern_df[\"Lat\"]\n",
    "y_values = northern_df[\"Wind Speed\"]\n",
    "linear_reg(x_values, y_values,\"Wind Speed\",(30,20),'../output_data/Images/N_WindSpeedvsLat.png')"
   ]
  },
  {
   "cell_type": "markdown",
   "metadata": {},
   "source": [
    "#### Explain what linear regression is modeling/relationships, other analysis: Northern Wind Speed vs. Latitude\n",
    "This plot displays the relationship between Wind Speed and Latitude in the Northern Hemisphere. There does not appear\n",
    "to be a strong correlation between Wind Speed and Latitude in the Northern Hemisphere. In a few places it looks like \n",
    "wind speed picks up closer to the equator, but it looks like a weak correlation between Wind Speed and Latitude. "
   ]
  },
  {
   "cell_type": "markdown",
   "metadata": {},
   "source": [
    "####  Southern Hemisphere - Wind Speed (mph) vs. Latitude Linear Regressionz "
   ]
  },
  {
   "cell_type": "code",
   "execution_count": 24,
   "metadata": {},
   "outputs": [
    {
     "name": "stdout",
     "output_type": "stream",
     "text": [
      "The r-squared is: 0.005869835423049683\n"
     ]
    },
    {
     "data": {
      "image/png": "[encoded data removed]",
      "text/plain": [
       "<Figure size 432x288 with 1 Axes>"
      ]
     },
     "metadata": {
      "needs_background": "light"
     },
     "output_type": "display_data"
    }
   ],
   "source": [
    "# Wind Speed vs. Latitude Southern using linear regression function\n",
    "x_values = southern_df[\"Lat\"]\n",
    "y_values = southern_df[\"Wind Speed\"]\n",
    "linear_reg(x_values, y_values,\"Wind Speed\",(-30,20),'../output_data/Images/S_WindSpeedvsLat.png')"
   ]
  },
  {
   "cell_type": "markdown",
   "metadata": {},
   "source": [
    "#### Explain what linear regression is modeling/relationships, other analysis: Southern Wind Speed vs. Latitude\n",
    "This plot displays the relationship between Wind Speed and Latitude in the Southern Hemisphere. There does not appear\n",
    "to be a strong correlation between Wind Speed and Latitude in the Southern Hemisphere either. "
   ]
  }
 ],
 "metadata": {
  "anaconda-cloud": {},
  "kernel_info": {
   "name": "python3"
  },
  "kernelspec": {
   "display_name": "Python 3",
   "language": "python",
   "name": "python3"
  },
  "language_info": {
   "codemirror_mode": {
    "name": "ipython",
    "version": 3
   },
   "file_extension": ".py",
   "mimetype": "text/x-python",
   "name": "python",
   "nbconvert_exporter": "python",
   "pygments_lexer": "ipython3",
   "version": "3.7.6"
  },
  "latex_envs": {
   "LaTeX_envs_menu_present": true,
   "autoclose": false,
   "autocomplete": true,
   "bibliofile": "biblio.bib",
   "cite_by": "apalike",
   "current_citInitial": 1,
   "eqLabelWithNumbers": true,
   "eqNumInitial": 1,
   "hotkeys": {
    "equation": "Ctrl-E",
    "itemize": "Ctrl-I"
   },
   "labels_anchors": false,
   "latex_user_defs": false,
   "report_style_numbering": false,
   "user_envs_cfg": false
  },
  "nteract": {
   "version": "0.12.3"
  }
 },
 "nbformat": 4,
 "nbformat_minor": 2
}
